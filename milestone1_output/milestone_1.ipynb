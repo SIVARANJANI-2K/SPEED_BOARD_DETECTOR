{
 "cells": [
  {
   "cell_type": "markdown",
   "id": "981a945b-6b52-4f4a-997d-40e8e04fffb0",
   "metadata": {},
   "source": [
    "<h1>MILESTONE1</h1>"
   ]
  },
  {
   "cell_type": "code",
   "execution_count": 1,
   "id": "e3547f3c-5948-4010-aaf1-629ae07132c9",
   "metadata": {},
   "outputs": [
    {
     "name": "stdout",
     "output_type": "stream",
     "text": [
      "Collecting pandas\n",
      "  Downloading pandas-2.2.2-cp312-cp312-win_amd64.whl.metadata (19 kB)\n",
      "Requirement already satisfied: numpy>=1.26.0 in c:\\users\\sivakumar\\appdata\\local\\programs\\python\\python312\\lib\\site-packages (from pandas) (1.26.4)\n",
      "Requirement already satisfied: python-dateutil>=2.8.2 in c:\\users\\sivakumar\\appdata\\local\\programs\\python\\python312\\lib\\site-packages (from pandas) (2.9.0.post0)\n",
      "Collecting pytz>=2020.1 (from pandas)\n",
      "  Downloading pytz-2024.1-py2.py3-none-any.whl.metadata (22 kB)\n",
      "Collecting tzdata>=2022.7 (from pandas)\n",
      "  Downloading tzdata-2024.1-py2.py3-none-any.whl.metadata (1.4 kB)\n",
      "Requirement already satisfied: six>=1.5 in c:\\users\\sivakumar\\appdata\\local\\programs\\python\\python312\\lib\\site-packages (from python-dateutil>=2.8.2->pandas) (1.16.0)\n",
      "Downloading pandas-2.2.2-cp312-cp312-win_amd64.whl (11.5 MB)\n",
      "   ---------------------------------------- 0.0/11.5 MB ? eta -:--:--\n",
      "   ---------------------------------------- 0.1/11.5 MB 1.7 MB/s eta 0:00:07\n",
      "   ---------------------------------------- 0.1/11.5 MB 1.3 MB/s eta 0:00:09\n",
      "    --------------------------------------- 0.2/11.5 MB 1.0 MB/s eta 0:00:12\n",
      "    --------------------------------------- 0.2/11.5 MB 1.2 MB/s eta 0:00:10\n",
      "    --------------------------------------- 0.3/11.5 MB 1.2 MB/s eta 0:00:10\n",
      "    --------------------------------------- 0.3/11.5 MB 1.2 MB/s eta 0:00:10\n",
      "    --------------------------------------- 0.3/11.5 MB 1.2 MB/s eta 0:00:10\n",
      "    --------------------------------------- 0.3/11.5 MB 1.2 MB/s eta 0:00:10\n",
      "   - -------------------------------------- 0.4/11.5 MB 971.5 kB/s eta 0:00:12\n",
      "   - -------------------------------------- 0.4/11.5 MB 919.0 kB/s eta 0:00:13\n",
      "   - -------------------------------------- 0.5/11.5 MB 994.2 kB/s eta 0:00:12\n",
      "   - -------------------------------------- 0.5/11.5 MB 994.2 kB/s eta 0:00:12\n",
      "   -- ------------------------------------- 0.6/11.5 MB 1.0 MB/s eta 0:00:11\n",
      "   -- ------------------------------------- 0.6/11.5 MB 1.0 MB/s eta 0:00:11\n",
      "   -- ------------------------------------- 0.7/11.5 MB 998.7 kB/s eta 0:00:11\n",
      "   -- ------------------------------------- 0.7/11.5 MB 1.0 MB/s eta 0:00:11\n",
      "   --- ------------------------------------ 0.9/11.5 MB 1.1 MB/s eta 0:00:11\n",
      "   --- ------------------------------------ 0.9/11.5 MB 1.1 MB/s eta 0:00:11\n",
      "   --- ------------------------------------ 1.0/11.5 MB 1.1 MB/s eta 0:00:10\n",
      "   --- ------------------------------------ 1.0/11.5 MB 1.1 MB/s eta 0:00:10\n",
      "   --- ------------------------------------ 1.0/11.5 MB 1.1 MB/s eta 0:00:10\n",
      "   --- ------------------------------------ 1.1/11.5 MB 1.1 MB/s eta 0:00:10\n",
      "   ---- ----------------------------------- 1.2/11.5 MB 1.1 MB/s eta 0:00:10\n",
      "   ---- ----------------------------------- 1.3/11.5 MB 1.1 MB/s eta 0:00:10\n",
      "   ---- ----------------------------------- 1.3/11.5 MB 1.1 MB/s eta 0:00:10\n",
      "   ---- ----------------------------------- 1.4/11.5 MB 1.2 MB/s eta 0:00:09\n",
      "   ---- ----------------------------------- 1.4/11.5 MB 1.2 MB/s eta 0:00:09\n",
      "   ---- ----------------------------------- 1.4/11.5 MB 1.2 MB/s eta 0:00:09\n",
      "   ----- ---------------------------------- 1.5/11.5 MB 1.2 MB/s eta 0:00:09\n",
      "   ----- ---------------------------------- 1.6/11.5 MB 1.2 MB/s eta 0:00:09\n",
      "   ----- ---------------------------------- 1.7/11.5 MB 1.2 MB/s eta 0:00:09\n",
      "   ------ --------------------------------- 1.8/11.5 MB 1.2 MB/s eta 0:00:08\n",
      "   ------ --------------------------------- 2.0/11.5 MB 1.3 MB/s eta 0:00:08\n",
      "   ------- -------------------------------- 2.2/11.5 MB 1.4 MB/s eta 0:00:07\n",
      "   ------- -------------------------------- 2.2/11.5 MB 1.4 MB/s eta 0:00:07\n",
      "   -------- ------------------------------- 2.4/11.5 MB 1.4 MB/s eta 0:00:07\n",
      "   -------- ------------------------------- 2.5/11.5 MB 1.5 MB/s eta 0:00:07\n",
      "   --------- ------------------------------ 2.7/11.5 MB 1.6 MB/s eta 0:00:06\n",
      "   ---------- ----------------------------- 2.9/11.5 MB 1.6 MB/s eta 0:00:06\n",
      "   ---------- ----------------------------- 3.1/11.5 MB 1.7 MB/s eta 0:00:06\n",
      "   ----------- ---------------------------- 3.2/11.5 MB 1.7 MB/s eta 0:00:05\n",
      "   ----------- ---------------------------- 3.4/11.5 MB 1.8 MB/s eta 0:00:05\n",
      "   ------------ --------------------------- 3.5/11.5 MB 1.8 MB/s eta 0:00:05\n",
      "   ------------ --------------------------- 3.7/11.5 MB 1.8 MB/s eta 0:00:05\n",
      "   ------------- -------------------------- 3.9/11.5 MB 1.8 MB/s eta 0:00:05\n",
      "   -------------- ------------------------- 4.2/11.5 MB 1.9 MB/s eta 0:00:04\n",
      "   -------------- ------------------------- 4.3/11.5 MB 1.9 MB/s eta 0:00:04\n",
      "   --------------- ------------------------ 4.5/11.5 MB 2.0 MB/s eta 0:00:04\n",
      "   ---------------- ----------------------- 4.7/11.5 MB 2.1 MB/s eta 0:00:04\n",
      "   ----------------- ---------------------- 4.9/11.5 MB 2.1 MB/s eta 0:00:04\n",
      "   ----------------- ---------------------- 5.0/11.5 MB 2.1 MB/s eta 0:00:04\n",
      "   ------------------ --------------------- 5.3/11.5 MB 2.2 MB/s eta 0:00:03\n",
      "   ------------------- -------------------- 5.5/11.5 MB 2.2 MB/s eta 0:00:03\n",
      "   -------------------- ------------------- 5.8/11.5 MB 2.3 MB/s eta 0:00:03\n",
      "   --------------------- ------------------ 6.2/11.5 MB 2.4 MB/s eta 0:00:03\n",
      "   ---------------------- ----------------- 6.6/11.5 MB 2.5 MB/s eta 0:00:03\n",
      "   ----------------------- ---------------- 6.8/11.5 MB 2.5 MB/s eta 0:00:02\n",
      "   ------------------------ --------------- 7.0/11.5 MB 2.6 MB/s eta 0:00:02\n",
      "   ------------------------- -------------- 7.3/11.5 MB 2.6 MB/s eta 0:00:02\n",
      "   --------------------------- ------------ 7.8/11.5 MB 2.7 MB/s eta 0:00:02\n",
      "   --------------------------- ------------ 7.9/11.5 MB 2.7 MB/s eta 0:00:02\n",
      "   --------------------------- ------------ 8.0/11.5 MB 2.7 MB/s eta 0:00:02\n",
      "   ---------------------------- ----------- 8.3/11.5 MB 2.7 MB/s eta 0:00:02\n",
      "   ----------------------------- ---------- 8.6/11.5 MB 2.8 MB/s eta 0:00:02\n",
      "   ------------------------------ --------- 8.8/11.5 MB 2.8 MB/s eta 0:00:01\n",
      "   ------------------------------- -------- 9.1/11.5 MB 2.8 MB/s eta 0:00:01\n",
      "   -------------------------------- ------- 9.3/11.5 MB 2.9 MB/s eta 0:00:01\n",
      "   --------------------------------- ------ 9.6/11.5 MB 2.9 MB/s eta 0:00:01\n",
      "   ---------------------------------- ----- 9.9/11.5 MB 3.0 MB/s eta 0:00:01\n",
      "   ----------------------------------- ---- 10.2/11.5 MB 3.0 MB/s eta 0:00:01\n",
      "   ------------------------------------ --- 10.4/11.5 MB 3.1 MB/s eta 0:00:01\n",
      "   ------------------------------------- -- 10.7/11.5 MB 3.4 MB/s eta 0:00:01\n",
      "   ------------------------------------- -- 10.8/11.5 MB 3.5 MB/s eta 0:00:01\n",
      "   -------------------------------------- - 11.2/11.5 MB 3.8 MB/s eta 0:00:01\n",
      "   ---------------------------------------  11.4/11.5 MB 3.9 MB/s eta 0:00:01\n",
      "   ---------------------------------------  11.5/11.5 MB 4.0 MB/s eta 0:00:01\n",
      "   ---------------------------------------  11.5/11.5 MB 3.9 MB/s eta 0:00:01\n",
      "   ---------------------------------------  11.5/11.5 MB 3.9 MB/s eta 0:00:01\n",
      "   ---------------------------------------- 11.5/11.5 MB 3.9 MB/s eta 0:00:00\n",
      "Downloading pytz-2024.1-py2.py3-none-any.whl (505 kB)\n",
      "   ---------------------------------------- 0.0/505.5 kB ? eta -:--:--\n",
      "   -- ------------------------------------- 30.7/505.5 kB ? eta -:--:--\n",
      "   -------- ------------------------------- 102.4/505.5 kB 1.5 MB/s eta 0:00:01\n",
      "   ---------------------------------------  501.8/505.5 kB 3.9 MB/s eta 0:00:01\n",
      "   ---------------------------------------  501.8/505.5 kB 3.9 MB/s eta 0:00:01\n",
      "   ---------------------------------------- 505.5/505.5 kB 2.6 MB/s eta 0:00:00\n",
      "Downloading tzdata-2024.1-py2.py3-none-any.whl (345 kB)\n",
      "   ---------------------------------------- 0.0/345.4 kB ? eta -:--:--\n",
      "   -------------- ------------------------- 122.9/345.4 kB 3.6 MB/s eta 0:00:01\n",
      "   --------------------------- ------------ 235.5/345.4 kB 2.9 MB/s eta 0:00:01\n",
      "   ---------------------------------------  337.9/345.4 kB 3.5 MB/s eta 0:00:01\n",
      "   ---------------------------------------- 345.4/345.4 kB 2.4 MB/s eta 0:00:00\n",
      "Installing collected packages: pytz, tzdata, pandas\n",
      "Successfully installed pandas-2.2.2 pytz-2024.1 tzdata-2024.1\n"
     ]
    },
    {
     "name": "stderr",
     "output_type": "stream",
     "text": [
      "\n",
      "[notice] A new release of pip is available: 24.0 -> 24.1.2\n",
      "[notice] To update, run: python.exe -m pip install --upgrade pip\n"
     ]
    }
   ],
   "source": [
    "!pip install pandas"
   ]
  },
  {
   "cell_type": "code",
   "execution_count": 32,
   "id": "012668b7-9bc3-43c6-9d6f-c9c8a918cab9",
   "metadata": {},
   "outputs": [],
   "source": [
    "import easyocr\n",
    "import pandas as pd\n",
    "import numpy as np"
   ]
  },
  {
   "cell_type": "code",
   "execution_count": 4,
   "id": "2b11b0c1-4404-4d15-b1d4-09dbdd025d60",
   "metadata": {},
   "outputs": [
    {
     "name": "stderr",
     "output_type": "stream",
     "text": [
      "Neither CUDA nor MPS are available - defaulting to CPU. Note: This module is much faster with a GPU.\n"
     ]
    }
   ],
   "source": [
    "reader=easyocr.Reader(['en'])"
   ]
  },
  {
   "cell_type": "markdown",
   "id": "d2c5ba80-fbca-4511-a183-1092aa35900c",
   "metadata": {},
   "source": [
    "<p>To extract speed from the image</p>"
   ]
  },
  {
   "cell_type": "code",
   "execution_count": 36,
   "id": "203ad907-4d5b-40fb-8bc1-536c5b0e5103",
   "metadata": {},
   "outputs": [],
   "source": [
    "def get_speed(image):\n",
    "    result=reader.readtext(image,paragraph=True)\n",
    "    if len(result)==1:\n",
    "        text=result[0][1]\n",
    "        speed=text.replace(\"SPEED LIMIT \",\"\")\n",
    "        return speed\n",
    "    else:\n",
    "        return \"none\""
   ]
  },
  {
   "cell_type": "code",
   "execution_count": 37,
   "id": "f992c12d-0853-41e8-8619-82b1a6761687",
   "metadata": {},
   "outputs": [],
   "source": [
    "datas=[]"
   ]
  },
  {
   "cell_type": "code",
   "execution_count": 38,
   "id": "102ded08-9407-4abf-8127-09613064d903",
   "metadata": {},
   "outputs": [],
   "source": [
    "def add_to_data(name,value):\n",
    "    single_data=[]\n",
    "    single_data.append(name)\n",
    "    single_data.append(value)\n",
    "    datas.append(single_data)"
   ]
  },
  {
   "cell_type": "code",
   "execution_count": 45,
   "id": "65405a4b-1ce9-486b-ab64-8cdfe1827c94",
   "metadata": {},
   "outputs": [],
   "source": [
    "def convert_dataframe():\n",
    "    columns=['Image name','SPEED LIMIT']\n",
    "    df=pd.DataFrame(datas,columns=columns)\n",
    "    return df\n",
    "    "
   ]
  },
  {
   "cell_type": "code",
   "execution_count": 40,
   "id": "8b20279b-957a-481a-ab47-367135fe8787",
   "metadata": {},
   "outputs": [],
   "source": [
    "firstImage=\"PICTURE1.PNG\"\n",
    "secondImage=\"Picture2.jpg\"\n",
    "thirdImage=\"Picture3.jpg\"\n",
    "fourImage=\"Picture4.jpg\"\n",
    "fifthImage=\"Picture5.jpg\""
   ]
  },
  {
   "cell_type": "code",
   "execution_count": 41,
   "id": "18135ecb-6368-4361-9fa0-48edad0134f2",
   "metadata": {},
   "outputs": [],
   "source": [
    "add_to_data(firstImage,get_speed(firstImage))"
   ]
  },
  {
   "cell_type": "code",
   "execution_count": 42,
   "id": "f06feaaf-d0b5-4601-aaf5-be20046b4613",
   "metadata": {},
   "outputs": [],
   "source": [
    "add_to_data(secondImage,get_speed(secondImage))\n",
    "add_to_data(thirdImage,get_speed(thirdImage))\n",
    "add_to_data(fourImage,get_speed(fourImage))\n",
    "add_to_data(fifthImage,get_speed(fifthImage))"
   ]
  },
  {
   "cell_type": "code",
   "execution_count": 43,
   "id": "eb714e4e-ed99-401e-a062-f579d64eda0a",
   "metadata": {},
   "outputs": [
    {
     "data": {
      "text/plain": [
       "[['PICTURE1.PNG', '45'],\n",
       " ['Picture2.jpg', '50'],\n",
       " ['Picture3.jpg', '85'],\n",
       " ['Picture4.jpg', '85'],\n",
       " ['Picture5.jpg', 'none']]"
      ]
     },
     "execution_count": 43,
     "metadata": {},
     "output_type": "execute_result"
    }
   ],
   "source": [
    "datas"
   ]
  },
  {
   "cell_type": "code",
   "execution_count": 46,
   "id": "3880af82-8d1e-42c3-b87a-8279d1280460",
   "metadata": {},
   "outputs": [],
   "source": [
    "output=convert_dataframe()"
   ]
  },
  {
   "cell_type": "markdown",
   "id": "f625e2cd-c028-4057-8e70-3f18fa1a1a48",
   "metadata": {},
   "source": [
    "<h1>CONVERTING TO A OUTPUT FILE</H1>"
   ]
  },
  {
   "cell_type": "code",
   "execution_count": 49,
   "id": "968a6898-e621-43b9-8a9b-2397f757c249",
   "metadata": {},
   "outputs": [],
   "source": [
    "output.to_csv(\"M1_Output.csv\",index=False)"
   ]
  },
  {
   "cell_type": "code",
   "execution_count": null,
   "id": "c6948406-bc5a-49b8-a329-156a2a37c639",
   "metadata": {},
   "outputs": [],
   "source": []
  }
 ],
 "metadata": {
  "kernelspec": {
   "display_name": "Python 3 (ipykernel)",
   "language": "python",
   "name": "python3"
  },
  "language_info": {
   "codemirror_mode": {
    "name": "ipython",
    "version": 3
   },
   "file_extension": ".py",
   "mimetype": "text/x-python",
   "name": "python",
   "nbconvert_exporter": "python",
   "pygments_lexer": "ipython3",
   "version": "3.12.4"
  }
 },
 "nbformat": 4,
 "nbformat_minor": 5
}
